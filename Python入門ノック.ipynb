{
  "nbformat": 4,
  "nbformat_minor": 0,
  "metadata": {
    "colab": {
      "provenance": [],
      "toc_visible": true,
      "authorship_tag": "ABX9TyM5vr69S/IigfL+1UOqpLGV",
      "include_colab_link": true
    },
    "kernelspec": {
      "name": "python3",
      "display_name": "Python 3"
    },
    "language_info": {
      "name": "python"
    }
  },
  "cells": [
    {
      "cell_type": "markdown",
      "metadata": {
        "id": "view-in-github",
        "colab_type": "text"
      },
      "source": [
        "<a href=\"https://colab.research.google.com/github/mizuki-53/colab/blob/main/Python%E5%85%A5%E9%96%80%E3%83%8E%E3%83%83%E3%82%AF.ipynb\" target=\"_parent\"><img src=\"https://colab.research.google.com/assets/colab-badge.svg\" alt=\"Open In Colab\"/></a>"
      ]
    },
    {
      "cell_type": "markdown",
      "source": [],
      "metadata": {
        "id": "Gx1D0YXN2jBg"
      }
    },
    {
      "cell_type": "markdown",
      "source": [
        "# vol1\n",
        "https://www.youtube.com/watch?v=Hd35Zq0efM8"
      ],
      "metadata": {
        "id": "2suo3f0q2W2z"
      }
    },
    {
      "cell_type": "code",
      "metadata": {
        "id": "lVDdYXrakZfI"
      },
      "source": [
        "#文字列の代入\n",
        "name='みずき'\n",
        "birthplace='滋賀'"
      ],
      "execution_count": null,
      "outputs": []
    },
    {
      "cell_type": "code",
      "metadata": {
        "colab": {
          "base_uri": "https://localhost:8080/",
          "height": 35
        },
        "id": "xOCqnEx6oAiJ",
        "outputId": "a5aa5fb6-0559-4f6b-fde7-a1a68df56ca7"
      },
      "source": [
        "'私は{}です。出身は{}です。'.format(name,birthplace)"
      ],
      "execution_count": null,
      "outputs": [
        {
          "output_type": "execute_result",
          "data": {
            "application/vnd.google.colaboratory.intrinsic+json": {
              "type": "string"
            },
            "text/plain": [
              "'私はみずきです。出身は滋賀です。'"
            ]
          },
          "metadata": {
            "tags": []
          },
          "execution_count": 6
        }
      ]
    },
    {
      "cell_type": "code",
      "metadata": {
        "colab": {
          "base_uri": "https://localhost:8080/",
          "height": 35
        },
        "id": "8c2mFXGcmXUD",
        "outputId": "183f9d1e-1066-4aff-d119-fb6384924a12"
      },
      "source": [
        "f'私は{name}です。出身は{birthplace}です。'"
      ],
      "execution_count": null,
      "outputs": [
        {
          "output_type": "execute_result",
          "data": {
            "application/vnd.google.colaboratory.intrinsic+json": {
              "type": "string"
            },
            "text/plain": [
              "'私はみずきです。出身は滋賀です。'"
            ]
          },
          "metadata": {
            "tags": []
          },
          "execution_count": 4
        }
      ]
    },
    {
      "cell_type": "code",
      "metadata": {
        "colab": {
          "base_uri": "https://localhost:8080/"
        },
        "id": "mHHnoycemp4X",
        "outputId": "9a8f93a9-e5bf-4644-e6f8-d600702a6e48"
      },
      "source": [
        "#エスケープシーケンス\n",
        "print('いつもの帰り道とは違うルートで帰ってみようかな。\\n迷子にならないか心配だけど。')"
      ],
      "execution_count": null,
      "outputs": [
        {
          "output_type": "stream",
          "text": [
            "いつもの帰り道とは違うルートで帰ってみようかな。\n",
            "迷子にならないか心配だけど。\n"
          ],
          "name": "stdout"
        }
      ]
    },
    {
      "cell_type": "code",
      "metadata": {
        "colab": {
          "base_uri": "https://localhost:8080/"
        },
        "id": "euxwgRNMpUdn",
        "outputId": "172fb413-5911-4e40-bc7b-63bf36172426"
      },
      "source": [
        "#書式化\n",
        "print(\"10進数=%d,16進数=%x,10進浮動小数点=%f\"%(16,16,16))"
      ],
      "execution_count": null,
      "outputs": [
        {
          "output_type": "stream",
          "text": [
            "10進数=16,16進数=10,10進浮動小数点=16.000000\n"
          ],
          "name": "stdout"
        }
      ]
    },
    {
      "cell_type": "code",
      "metadata": {
        "colab": {
          "base_uri": "https://localhost:8080/",
          "height": 35
        },
        "id": "saqKF1XYrby2",
        "outputId": "c995991e-7319-47cd-90dd-a96754ca6bde"
      },
      "source": [
        "#大文字小文字への変換\n",
        "'hELlo'.upper()"
      ],
      "execution_count": null,
      "outputs": [
        {
          "output_type": "execute_result",
          "data": {
            "application/vnd.google.colaboratory.intrinsic+json": {
              "type": "string"
            },
            "text/plain": [
              "'HELLO'"
            ]
          },
          "metadata": {
            "tags": []
          },
          "execution_count": 15
        }
      ]
    },
    {
      "cell_type": "code",
      "metadata": {
        "colab": {
          "base_uri": "https://localhost:8080/",
          "height": 35
        },
        "id": "EkbGoDLjsTXu",
        "outputId": "c95f87a8-21e0-4ea6-f36b-21adfeb84e40"
      },
      "source": [
        "\"HelLO\".lower()"
      ],
      "execution_count": null,
      "outputs": [
        {
          "output_type": "execute_result",
          "data": {
            "application/vnd.google.colaboratory.intrinsic+json": {
              "type": "string"
            },
            "text/plain": [
              "'hello'"
            ]
          },
          "metadata": {
            "tags": []
          },
          "execution_count": 16
        }
      ]
    },
    {
      "cell_type": "code",
      "metadata": {
        "colab": {
          "base_uri": "https://localhost:8080/"
        },
        "id": "pZkExb4DsWA-",
        "outputId": "1ef46edb-69b7-4da0-e439-63f04fbfa241"
      },
      "source": [
        "#文字列の分割\n",
        "message=\"こんにちは。\\n私はAIのロボットです。\"\n",
        "print(message)"
      ],
      "execution_count": null,
      "outputs": [
        {
          "output_type": "stream",
          "text": [
            "こんにちは。\n",
            "私はAIのロボットです。\n"
          ],
          "name": "stdout"
        }
      ]
    },
    {
      "cell_type": "code",
      "metadata": {
        "colab": {
          "base_uri": "https://localhost:8080/"
        },
        "id": "LsgZ_KIa02nl",
        "outputId": "12e64d3c-16a5-48ea-87f9-aa965bb08cf9"
      },
      "source": [
        "messages=message.split('\\n')\n",
        "messages"
      ],
      "execution_count": null,
      "outputs": [
        {
          "output_type": "execute_result",
          "data": {
            "text/plain": [
              "['こんにちは。', '私はAIのロボットです。']"
            ]
          },
          "metadata": {
            "tags": []
          },
          "execution_count": 19
        }
      ]
    },
    {
      "cell_type": "code",
      "metadata": {
        "colab": {
          "base_uri": "https://localhost:8080/",
          "height": 35
        },
        "id": "C6SW0GxD0_4M",
        "outputId": "04117d9c-b60c-41f5-fab6-b479c71ff450"
      },
      "source": [
        "#文字列の結合\n",
        "'〇〇'.join(messages)#〇〇の要素で結合する"
      ],
      "execution_count": null,
      "outputs": [
        {
          "output_type": "execute_result",
          "data": {
            "application/vnd.google.colaboratory.intrinsic+json": {
              "type": "string"
            },
            "text/plain": [
              "'こんにちは。〇〇私はAIのロボットです。'"
            ]
          },
          "metadata": {
            "tags": []
          },
          "execution_count": 23
        }
      ]
    },
    {
      "cell_type": "code",
      "metadata": {
        "colab": {
          "base_uri": "https://localhost:8080/"
        },
        "id": "GnhRTheb1lMT",
        "outputId": "8fe53ee3-8d22-40f2-81d3-f0119af8c1e0"
      },
      "source": [
        "#空白除去\n",
        "message=\"　いつも食べるここのケーキはとても美味しいね。　\"\n",
        "print(message.strip())"
      ],
      "execution_count": null,
      "outputs": [
        {
          "output_type": "stream",
          "text": [
            "いつも食べるここのケーキはとても美味しいね。\n"
          ],
          "name": "stdout"
        }
      ]
    },
    {
      "cell_type": "code",
      "metadata": {
        "colab": {
          "base_uri": "https://localhost:8080/",
          "height": 35
        },
        "id": "6kKZ92tm2EL1",
        "outputId": "d5054dab-f4f7-487a-d8c0-0e37a84a1c03"
      },
      "source": [
        "#文字列の置換\n",
        "message=\"今日は晴れですね\"\n",
        "message.replace('晴れ','雨')"
      ],
      "execution_count": null,
      "outputs": [
        {
          "output_type": "execute_result",
          "data": {
            "application/vnd.google.colaboratory.intrinsic+json": {
              "type": "string"
            },
            "text/plain": [
              "'今日は雨ですね'"
            ]
          },
          "metadata": {
            "tags": []
          },
          "execution_count": 26
        }
      ]
    },
    {
      "cell_type": "code",
      "metadata": {
        "colab": {
          "base_uri": "https://localhost:8080/"
        },
        "id": "hobdkeCW2XOv",
        "outputId": "c23d561e-00c0-4bd3-9ef7-91c5276f984a"
      },
      "source": [
        "#文字列検索\n",
        "message=\"今日はとても夜空が綺麗だ。\"\n",
        "message.find('夜空')"
      ],
      "execution_count": null,
      "outputs": [
        {
          "output_type": "execute_result",
          "data": {
            "text/plain": [
              "6"
            ]
          },
          "metadata": {
            "tags": []
          },
          "execution_count": 27
        }
      ]
    },
    {
      "cell_type": "code",
      "metadata": {
        "colab": {
          "base_uri": "https://localhost:8080/",
          "height": 35
        },
        "id": "VcQgRi9d2lgN",
        "outputId": "7a58988a-1a80-41f4-d09b-6dda30f566d3"
      },
      "source": [
        "#型変換\n",
        "x=1\n",
        "str(x)"
      ],
      "execution_count": null,
      "outputs": [
        {
          "output_type": "execute_result",
          "data": {
            "application/vnd.google.colaboratory.intrinsic+json": {
              "type": "string"
            },
            "text/plain": [
              "'1'"
            ]
          },
          "metadata": {
            "tags": []
          },
          "execution_count": 29
        }
      ]
    },
    {
      "cell_type": "code",
      "metadata": {
        "colab": {
          "base_uri": "https://localhost:8080/",
          "height": 35
        },
        "id": "E1iuuD5b2whc",
        "outputId": "42b0bbd8-fbef-480b-83bd-d230fb5284fc"
      },
      "source": [
        "x=1.52\n",
        "str(x)"
      ],
      "execution_count": null,
      "outputs": [
        {
          "output_type": "execute_result",
          "data": {
            "application/vnd.google.colaboratory.intrinsic+json": {
              "type": "string"
            },
            "text/plain": [
              "'1.52'"
            ]
          },
          "metadata": {
            "tags": []
          },
          "execution_count": 31
        }
      ]
    },
    {
      "cell_type": "code",
      "metadata": {
        "colab": {
          "base_uri": "https://localhost:8080/",
          "height": 35
        },
        "id": "mojzQ4uG23EV",
        "outputId": "2865ee63-1a4b-4fcc-e9f9-8d208ecd2329"
      },
      "source": [
        "x=[1,2,3]\n",
        "str(x)"
      ],
      "execution_count": null,
      "outputs": [
        {
          "output_type": "execute_result",
          "data": {
            "application/vnd.google.colaboratory.intrinsic+json": {
              "type": "string"
            },
            "text/plain": [
              "'[1, 2, 3]'"
            ]
          },
          "metadata": {
            "tags": []
          },
          "execution_count": 33
        }
      ]
    },
    {
      "cell_type": "code",
      "metadata": {
        "colab": {
          "base_uri": "https://localhost:8080/",
          "height": 35
        },
        "id": "lMG0_ddN27rg",
        "outputId": "e0edb7aa-0557-4c00-dbb7-71a17f6b5a05"
      },
      "source": [
        "x = dict(name='john',birth='US')\n",
        "str(x)"
      ],
      "execution_count": null,
      "outputs": [
        {
          "output_type": "execute_result",
          "data": {
            "application/vnd.google.colaboratory.intrinsic+json": {
              "type": "string"
            },
            "text/plain": [
              "\"{'name': 'john', 'birth': 'US'}\""
            ]
          },
          "metadata": {
            "tags": []
          },
          "execution_count": 40
        }
      ]
    },
    {
      "cell_type": "code",
      "metadata": {
        "id": "EAg3ns7J3F8y"
      },
      "source": [
        "#包含関係\n",
        "a,b=\"sba\",'gasba'"
      ],
      "execution_count": null,
      "outputs": []
    },
    {
      "cell_type": "code",
      "metadata": {
        "colab": {
          "base_uri": "https://localhost:8080/",
          "height": 35
        },
        "id": "LpX152PE35Ry",
        "outputId": "a0a46f03-9a8a-4a84-f9ff-f3e8ec404d23"
      },
      "source": [
        "a"
      ],
      "execution_count": null,
      "outputs": [
        {
          "output_type": "execute_result",
          "data": {
            "application/vnd.google.colaboratory.intrinsic+json": {
              "type": "string"
            },
            "text/plain": [
              "'sba'"
            ]
          },
          "metadata": {
            "tags": []
          },
          "execution_count": 46
        }
      ]
    },
    {
      "cell_type": "code",
      "metadata": {
        "colab": {
          "base_uri": "https://localhost:8080/",
          "height": 35
        },
        "id": "c45Kp31y35-c",
        "outputId": "64d5d810-3c85-441d-cbba-3540431750fa"
      },
      "source": [
        "b"
      ],
      "execution_count": null,
      "outputs": [
        {
          "output_type": "execute_result",
          "data": {
            "application/vnd.google.colaboratory.intrinsic+json": {
              "type": "string"
            },
            "text/plain": [
              "'gasba'"
            ]
          },
          "metadata": {
            "tags": []
          },
          "execution_count": 47
        }
      ]
    },
    {
      "cell_type": "code",
      "metadata": {
        "colab": {
          "base_uri": "https://localhost:8080/"
        },
        "id": "ZF4fheNK36hc",
        "outputId": "5fb0472e-2276-4af6-9a85-4efb06cdeebc"
      },
      "source": [
        "a in b"
      ],
      "execution_count": null,
      "outputs": [
        {
          "output_type": "execute_result",
          "data": {
            "text/plain": [
              "True"
            ]
          },
          "metadata": {
            "tags": []
          },
          "execution_count": 48
        }
      ]
    },
    {
      "cell_type": "code",
      "metadata": {
        "colab": {
          "base_uri": "https://localhost:8080/"
        },
        "id": "7544RYkD4BdY",
        "outputId": "941f9d05-2ff6-4ce1-8f99-fc658076db54"
      },
      "source": [
        "b in a"
      ],
      "execution_count": null,
      "outputs": [
        {
          "output_type": "execute_result",
          "data": {
            "text/plain": [
              "False"
            ]
          },
          "metadata": {
            "tags": []
          },
          "execution_count": 49
        }
      ]
    },
    {
      "cell_type": "code",
      "metadata": {
        "id": "ENF86qy_4C-d"
      },
      "source": [
        "a,b=\"xdh\",'orweit'"
      ],
      "execution_count": null,
      "outputs": []
    },
    {
      "cell_type": "code",
      "metadata": {
        "colab": {
          "base_uri": "https://localhost:8080/"
        },
        "id": "EBaxcZPe4L-d",
        "outputId": "39568983-a7e1-4c22-c807-8f96e8ea609e"
      },
      "source": [
        "a in b"
      ],
      "execution_count": null,
      "outputs": [
        {
          "output_type": "execute_result",
          "data": {
            "text/plain": [
              "False"
            ]
          },
          "metadata": {
            "tags": []
          },
          "execution_count": 51
        }
      ]
    },
    {
      "cell_type": "code",
      "metadata": {
        "id": "msM0pvvg4M7G"
      },
      "source": [
        " #リスト\n",
        " #特定の値を抽出\n",
        " numbers=[0,3,8,-4,9,1]"
      ],
      "execution_count": null,
      "outputs": []
    },
    {
      "cell_type": "code",
      "metadata": {
        "colab": {
          "base_uri": "https://localhost:8080/"
        },
        "id": "SrqEX7_u4Y4c",
        "outputId": "5296dd13-d70a-44e6-da57-ff34f72133ac"
      },
      "source": [
        " numbers[1]"
      ],
      "execution_count": null,
      "outputs": [
        {
          "output_type": "execute_result",
          "data": {
            "text/plain": [
              "3"
            ]
          },
          "metadata": {
            "tags": []
          },
          "execution_count": 62
        }
      ]
    },
    {
      "cell_type": "code",
      "metadata": {
        "colab": {
          "base_uri": "https://localhost:8080/"
        },
        "id": "hBObL38u4nxM",
        "outputId": "d6811755-9cc2-4807-f333-913aa7cb6aad"
      },
      "source": [
        " numbers[-1]"
      ],
      "execution_count": null,
      "outputs": [
        {
          "output_type": "execute_result",
          "data": {
            "text/plain": [
              "1"
            ]
          },
          "metadata": {
            "tags": []
          },
          "execution_count": 63
        }
      ]
    },
    {
      "cell_type": "code",
      "metadata": {
        "colab": {
          "base_uri": "https://localhost:8080/"
        },
        "id": "JLpgqSXu4g3C",
        "outputId": "4bec1d21-0968-423a-cffe-e33a113f02f3"
      },
      "source": [
        "numbers.append(2)\n",
        "numbers"
      ],
      "execution_count": null,
      "outputs": [
        {
          "output_type": "execute_result",
          "data": {
            "text/plain": [
              "[0, 3, 8, -4, 9, 1, 2]"
            ]
          },
          "metadata": {
            "tags": []
          },
          "execution_count": 64
        }
      ]
    },
    {
      "cell_type": "code",
      "metadata": {
        "colab": {
          "base_uri": "https://localhost:8080/"
        },
        "id": "J9_On9pj4uf5",
        "outputId": "9d990a05-b1ac-476a-8ed2-df53e5336ffe"
      },
      "source": [
        "#特定の値を挿入\n",
        "numbers.insert(0,5)#０番目の前に5を挿入\n",
        "numbers"
      ],
      "execution_count": null,
      "outputs": [
        {
          "output_type": "execute_result",
          "data": {
            "text/plain": [
              "[5, 0, 3, 8, -4, 9, 1, 2]"
            ]
          },
          "metadata": {
            "tags": []
          },
          "execution_count": 65
        }
      ]
    },
    {
      "cell_type": "code",
      "metadata": {
        "colab": {
          "base_uri": "https://localhost:8080/"
        },
        "id": "CAGQPP964-c8",
        "outputId": "3962ae69-0a86-4b5e-f4d9-b4766b3d986f"
      },
      "source": [
        "numbers.insert(-1,-3)#最後の項目の前に-3を挿入\n",
        "numbers"
      ],
      "execution_count": null,
      "outputs": [
        {
          "output_type": "execute_result",
          "data": {
            "text/plain": [
              "[5, 0, 3, 8, -4, 9, 1, -3, 2]"
            ]
          },
          "metadata": {
            "tags": []
          },
          "execution_count": 66
        }
      ]
    },
    {
      "cell_type": "code",
      "metadata": {
        "colab": {
          "base_uri": "https://localhost:8080/"
        },
        "id": "JrzVF0rB5Vn8",
        "outputId": "44a0e5b8-c5ac-40b5-968a-4a7f5362c5a6"
      },
      "source": [
        "#特定の値を削除\n",
        "numbers.remove(5)#5を消す\n",
        "numbers"
      ],
      "execution_count": null,
      "outputs": [
        {
          "output_type": "execute_result",
          "data": {
            "text/plain": [
              "[0, 3, 8, -4, 9, 1, -3, 2]"
            ]
          },
          "metadata": {
            "tags": []
          },
          "execution_count": 67
        }
      ]
    },
    {
      "cell_type": "code",
      "metadata": {
        "colab": {
          "base_uri": "https://localhost:8080/"
        },
        "id": "pSUftQ8T5mTn",
        "outputId": "98afacc8-a4af-4e41-d875-ee7a1603e957"
      },
      "source": [
        "numbers.remove(3)#3を消す\n",
        "numbers"
      ],
      "execution_count": null,
      "outputs": [
        {
          "output_type": "execute_result",
          "data": {
            "text/plain": [
              "[0, 8, -4, 9, 1, -3, 2]"
            ]
          },
          "metadata": {
            "tags": []
          },
          "execution_count": 68
        }
      ]
    },
    {
      "cell_type": "code",
      "metadata": {
        "colab": {
          "base_uri": "https://localhost:8080/"
        },
        "id": "-eRE0HRX5ysd",
        "outputId": "e68ad4f2-c75c-4e5f-d965-7f799f227da1"
      },
      "source": [
        "numbers.pop(-3)#-3番目の要素を消す　＝1を消す\n",
        "numbers"
      ],
      "execution_count": null,
      "outputs": [
        {
          "output_type": "execute_result",
          "data": {
            "text/plain": [
              "[0, 8, -4, 9, -3, 2]"
            ]
          },
          "metadata": {
            "tags": []
          },
          "execution_count": 69
        }
      ]
    },
    {
      "cell_type": "code",
      "metadata": {
        "id": "PWEdo9pM59gT"
      },
      "source": [
        "#フィルター\n",
        "def isEven(number):\n",
        "  if number % 2==0:\n",
        "    print(f\"This number ,{number} is even!\")\n",
        "    return True\n",
        "  else:\n",
        "    print(f'This number ,{number} is odd!')\n",
        "    return False"
      ],
      "execution_count": null,
      "outputs": []
    },
    {
      "cell_type": "code",
      "metadata": {
        "colab": {
          "base_uri": "https://localhost:8080/"
        },
        "id": "viQaaV7Y74fn",
        "outputId": "9c8e8b6e-c4e6-493e-f63f-f20ea35b1bf3"
      },
      "source": [
        "isEven(3)"
      ],
      "execution_count": null,
      "outputs": [
        {
          "output_type": "stream",
          "text": [
            "This number ,3 is odd!\n"
          ],
          "name": "stdout"
        },
        {
          "output_type": "execute_result",
          "data": {
            "text/plain": [
              "False"
            ]
          },
          "metadata": {
            "tags": []
          },
          "execution_count": 72
        }
      ]
    },
    {
      "cell_type": "code",
      "metadata": {
        "colab": {
          "base_uri": "https://localhost:8080/"
        },
        "id": "Wok97Bnn8CT_",
        "outputId": "54d6e53f-5883-49ce-81fc-96f6b6d6cfc8"
      },
      "source": [
        "#filter関数の使い方　filter(関数、リスト)\n",
        "#filter関数で返ってくるのはインスタンスのみなので、リストとして使いたい場合は、list関数も使う\n",
        "list(filter(isEven,numbers))"
      ],
      "execution_count": null,
      "outputs": [
        {
          "output_type": "stream",
          "text": [
            "This number ,0 is even!\n",
            "This number ,8 is even!\n",
            "This number ,-4 is even!\n",
            "This number ,9 is odd!\n",
            "This number ,-3 is odd!\n",
            "This number ,2 is even!\n"
          ],
          "name": "stdout"
        },
        {
          "output_type": "execute_result",
          "data": {
            "text/plain": [
              "[0, 8, -4, 2]"
            ]
          },
          "metadata": {
            "tags": []
          },
          "execution_count": 74
        }
      ]
    },
    {
      "cell_type": "code",
      "metadata": {
        "colab": {
          "base_uri": "https://localhost:8080/"
        },
        "id": "mwmSd55X8StU",
        "outputId": "71ce414d-7b3f-49dd-9682-9726be679768"
      },
      "source": [
        "#引数と一致する要素のインデックス(要素番号の取得)\n",
        "numbers.index(-4)"
      ],
      "execution_count": null,
      "outputs": [
        {
          "output_type": "execute_result",
          "data": {
            "text/plain": [
              "2"
            ]
          },
          "metadata": {
            "tags": []
          },
          "execution_count": 76
        }
      ]
    },
    {
      "cell_type": "code",
      "metadata": {
        "colab": {
          "base_uri": "https://localhost:8080/"
        },
        "id": "Lu3ldodX9nbf",
        "outputId": "dec03854-17b6-48db-97cb-a169d29b24a1"
      },
      "source": [
        "#ソート\n",
        "numbers.sort()\n",
        "numbers"
      ],
      "execution_count": null,
      "outputs": [
        {
          "output_type": "execute_result",
          "data": {
            "text/plain": [
              "[-4, -3, 0, 2, 8, 9]"
            ]
          },
          "metadata": {
            "tags": []
          },
          "execution_count": 80
        }
      ]
    },
    {
      "cell_type": "code",
      "metadata": {
        "colab": {
          "base_uri": "https://localhost:8080/"
        },
        "id": "wE-rnyJM9td7",
        "outputId": "a6c709f7-ad34-4aee-b664-182ca7ee6d68"
      },
      "source": [
        "numbers.sort(reverse=True)\n",
        "numbers"
      ],
      "execution_count": null,
      "outputs": [
        {
          "output_type": "execute_result",
          "data": {
            "text/plain": [
              "[9, 8, 2, 0, -3, -4]"
            ]
          },
          "metadata": {
            "tags": []
          },
          "execution_count": 81
        }
      ]
    },
    {
      "cell_type": "code",
      "metadata": {
        "colab": {
          "base_uri": "https://localhost:8080/"
        },
        "id": "qWOlGGCj94M5",
        "outputId": "5d086846-643c-4cb0-eca0-7db5a140e168"
      },
      "source": [
        "#辞書\n",
        "#要素の削除\n",
        "dictionary={\n",
        "    'A':'今西',\n",
        "    'B':'航平',\n",
        "    'C':'男性',\n",
        "    'D':'東京都',\n",
        "    'E':'海外旅行'\n",
        "}\n",
        "dictionary"
      ],
      "execution_count": null,
      "outputs": [
        {
          "output_type": "execute_result",
          "data": {
            "text/plain": [
              "{'A': '今西', 'B': '航平', 'C': '男性', 'D': '東京都', 'E': '海外旅行'}"
            ]
          },
          "metadata": {
            "tags": []
          },
          "execution_count": 84
        }
      ]
    },
    {
      "cell_type": "code",
      "metadata": {
        "colab": {
          "base_uri": "https://localhost:8080/",
          "height": 35
        },
        "id": "mm5ttgTu-TpT",
        "outputId": "e145fd91-51f6-44ae-f7ae-7ae111b0c62c"
      },
      "source": [
        "dictionary.pop('A')"
      ],
      "execution_count": null,
      "outputs": [
        {
          "output_type": "execute_result",
          "data": {
            "application/vnd.google.colaboratory.intrinsic+json": {
              "type": "string"
            },
            "text/plain": [
              "'今西'"
            ]
          },
          "metadata": {
            "tags": []
          },
          "execution_count": 85
        }
      ]
    },
    {
      "cell_type": "code",
      "metadata": {
        "colab": {
          "base_uri": "https://localhost:8080/"
        },
        "id": "umhi6dqP-cAt",
        "outputId": "faf36509-a4cc-43d1-9ac7-79db19bb136c"
      },
      "source": [
        "dictionary"
      ],
      "execution_count": null,
      "outputs": [
        {
          "output_type": "execute_result",
          "data": {
            "text/plain": [
              "{'B': '航平', 'C': '男性', 'D': '東京都', 'E': '海外旅行'}"
            ]
          },
          "metadata": {
            "tags": []
          },
          "execution_count": 86
        }
      ]
    },
    {
      "cell_type": "code",
      "metadata": {
        "colab": {
          "base_uri": "https://localhost:8080/",
          "height": 35
        },
        "id": "RlgyOXH3-dUq",
        "outputId": "df80ad00-70a2-4b79-dfa3-8c47ced14837"
      },
      "source": [
        "dictionary.pop('B')"
      ],
      "execution_count": null,
      "outputs": [
        {
          "output_type": "execute_result",
          "data": {
            "application/vnd.google.colaboratory.intrinsic+json": {
              "type": "string"
            },
            "text/plain": [
              "'航平'"
            ]
          },
          "metadata": {
            "tags": []
          },
          "execution_count": 87
        }
      ]
    },
    {
      "cell_type": "code",
      "metadata": {
        "colab": {
          "base_uri": "https://localhost:8080/"
        },
        "id": "ZPvMqbWE-ftU",
        "outputId": "a3cf7d43-869a-462b-9605-0fa9a1542c8c"
      },
      "source": [
        "dictionary"
      ],
      "execution_count": null,
      "outputs": [
        {
          "output_type": "execute_result",
          "data": {
            "text/plain": [
              "{'C': '男性', 'D': '東京都', 'E': '海外旅行'}"
            ]
          },
          "metadata": {
            "tags": []
          },
          "execution_count": 88
        }
      ]
    },
    {
      "cell_type": "code",
      "metadata": {
        "id": "wmIwSF9q-hvs"
      },
      "source": [
        "dictionary.clear()"
      ],
      "execution_count": null,
      "outputs": []
    },
    {
      "cell_type": "code",
      "metadata": {
        "colab": {
          "base_uri": "https://localhost:8080/",
          "height": 183
        },
        "id": "S6Hb9eTC-ju7",
        "outputId": "c050a039-f3cf-47ba-ccb5-0fe42b95ac6c"
      },
      "source": [
        "dictionary"
      ],
      "execution_count": 1,
      "outputs": [
        {
          "output_type": "error",
          "ename": "NameError",
          "evalue": "ignored",
          "traceback": [
            "\u001b[0;31m---------------------------------------------------------------------------\u001b[0m",
            "\u001b[0;31mNameError\u001b[0m                                 Traceback (most recent call last)",
            "\u001b[0;32m<ipython-input-1-c8c896c3840a>\u001b[0m in \u001b[0;36m<cell line: 1>\u001b[0;34m()\u001b[0m\n\u001b[0;32m----> 1\u001b[0;31m \u001b[0mdictionary\u001b[0m\u001b[0;34m\u001b[0m\u001b[0;34m\u001b[0m\u001b[0m\n\u001b[0m",
            "\u001b[0;31mNameError\u001b[0m: name 'dictionary' is not defined"
          ]
        }
      ]
    },
    {
      "cell_type": "markdown",
      "metadata": {
        "id": "wJEjC3D9DbuQ"
      },
      "source": [
        "# Vol.2\n",
        "https://www.youtube.com/watch?v=Oi_XXNZUUDg&t=33s"
      ]
    },
    {
      "cell_type": "code",
      "metadata": {
        "colab": {
          "base_uri": "https://localhost:8080/"
        },
        "id": "XGzygOPO-lU3",
        "outputId": "7ad3ab82-9544-48be-a197-7eb92b2e26a4"
      },
      "source": [
        "#辞書\n",
        "#情報の取得\n",
        "dictionary={\n",
        "    'A':'今西',\n",
        "    'B':'航平',\n",
        "    'C':'男性',\n",
        "    'D':'東京都',\n",
        "    'E':'海外旅行'\n",
        "}\n",
        "dictionary"
      ],
      "execution_count": null,
      "outputs": [
        {
          "output_type": "execute_result",
          "data": {
            "text/plain": [
              "{'A': '今西', 'B': '航平', 'C': '男性', 'D': '東京都', 'E': '海外旅行'}"
            ]
          },
          "metadata": {
            "tags": []
          },
          "execution_count": 94
        }
      ]
    },
    {
      "cell_type": "code",
      "metadata": {
        "colab": {
          "base_uri": "https://localhost:8080/"
        },
        "id": "IDxiOMy9DXeT",
        "outputId": "bae26d0c-aac2-42d3-94d8-c3063ddcb691"
      },
      "source": [
        "dictionary.keys() #キーのみを表示"
      ],
      "execution_count": null,
      "outputs": [
        {
          "output_type": "execute_result",
          "data": {
            "text/plain": [
              "dict_keys(['A', 'B', 'C', 'D', 'E'])"
            ]
          },
          "metadata": {
            "tags": []
          },
          "execution_count": 97
        }
      ]
    },
    {
      "cell_type": "code",
      "metadata": {
        "colab": {
          "base_uri": "https://localhost:8080/"
        },
        "id": "6q37NzfzD1sB",
        "outputId": "246311ac-7a22-4f7f-d255-76aa3d2d5960"
      },
      "source": [
        "\"男性\" in dictionary.values()#男性という値が存在するか判定"
      ],
      "execution_count": null,
      "outputs": [
        {
          "output_type": "execute_result",
          "data": {
            "text/plain": [
              "True"
            ]
          },
          "metadata": {
            "tags": []
          },
          "execution_count": 101
        }
      ]
    },
    {
      "cell_type": "code",
      "metadata": {
        "colab": {
          "base_uri": "https://localhost:8080/"
        },
        "id": "XLxGB-VDEGyN",
        "outputId": "79716e5a-ec3a-4cb1-d618-e0dcc65e83e2"
      },
      "source": [
        "#全てのキーと値の表示\n",
        "#dictionary.items()\n",
        "for key, value in dictionary.items():\n",
        "  print(f'キーは{key},バリューは{value}')"
      ],
      "execution_count": null,
      "outputs": [
        {
          "output_type": "stream",
          "text": [
            "キーはA,バリューは今西\n",
            "キーはB,バリューは航平\n",
            "キーはC,バリューは男性\n",
            "キーはD,バリューは東京都\n",
            "キーはE,バリューは海外旅行\n"
          ],
          "name": "stdout"
        }
      ]
    },
    {
      "cell_type": "code",
      "metadata": {
        "colab": {
          "base_uri": "https://localhost:8080/"
        },
        "id": "OUjdrv9EEgwQ",
        "outputId": "9f244c6a-4b9c-4f8b-e991-ab09762aeb5f"
      },
      "source": [
        "#辞書内の要素検索\n",
        "dictionary={\n",
        "    'A':'今西',\n",
        "    'B':'航平',\n",
        "    'C':'男性',\n",
        "    'D':'東京都',\n",
        "    'E':'海外旅行'\n",
        "}\n",
        "dictionary"
      ],
      "execution_count": null,
      "outputs": [
        {
          "output_type": "execute_result",
          "data": {
            "text/plain": [
              "{'A': '今西', 'B': '航平', 'C': '男性', 'D': '東京都', 'E': '海外旅行'}"
            ]
          },
          "metadata": {
            "tags": []
          },
          "execution_count": 105
        }
      ]
    },
    {
      "cell_type": "code",
      "metadata": {
        "colab": {
          "base_uri": "https://localhost:8080/",
          "height": 35
        },
        "id": "dZSJsZ1ZFaq6",
        "outputId": "0b69806e-cf42-4353-eeed-194251f82675"
      },
      "source": [
        "dictionary['E']"
      ],
      "execution_count": null,
      "outputs": [
        {
          "output_type": "execute_result",
          "data": {
            "application/vnd.google.colaboratory.intrinsic+json": {
              "type": "string"
            },
            "text/plain": [
              "'海外旅行'"
            ]
          },
          "metadata": {
            "tags": []
          },
          "execution_count": 110
        }
      ]
    },
    {
      "cell_type": "code",
      "metadata": {
        "id": "BMZe6kasE-Hi"
      },
      "source": [
        "#.get　のメソッドを使うと、辞書内にないキーを指定しても、エラーが出ない\n",
        "dictionary.get('F')"
      ],
      "execution_count": null,
      "outputs": []
    },
    {
      "cell_type": "code",
      "metadata": {
        "colab": {
          "base_uri": "https://localhost:8080/"
        },
        "id": "WnDU_snZFDfr",
        "outputId": "85817def-4a44-402e-dcdb-6527e2f4d256"
      },
      "source": [
        "#制御構文(if文)\n",
        "#if文を使って条件分岐\n",
        "\n",
        "num = -3\n",
        "if num > 0 :\n",
        "  print('正の値です')\n",
        "elif num == 0:\n",
        "  print(\"0です\")\n",
        "else :\n",
        "  print('負の値です')"
      ],
      "execution_count": null,
      "outputs": [
        {
          "output_type": "stream",
          "text": [
            "負の値です\n"
          ],
          "name": "stdout"
        }
      ]
    },
    {
      "cell_type": "code",
      "metadata": {
        "colab": {
          "base_uri": "https://localhost:8080/"
        },
        "id": "9_SW1AXEGPeT",
        "outputId": "6aa2acf1-c3ed-459b-926a-fcb70dfd0c6d"
      },
      "source": [
        "#論理演算子を使って複数条件の指定\n",
        "a= -4\n",
        "if 0 <= a < 10 and a % 2 == 0 :\n",
        "  print(\"一桁の偶数です\")\n",
        "elif a < 0 and a % 2 != 0 :\n",
        "  print(\"負の奇数です\")\n",
        "else :\n",
        "  print('整数です')"
      ],
      "execution_count": null,
      "outputs": [
        {
          "output_type": "stream",
          "text": [
            "整数です\n"
          ],
          "name": "stdout"
        }
      ]
    },
    {
      "cell_type": "code",
      "metadata": {
        "colab": {
          "base_uri": "https://localhost:8080/"
        },
        "id": "VB6zfgqRHly_",
        "outputId": "97bb641c-ee68-4480-c95b-c5aa48fcb1f1"
      },
      "source": [
        "#制御構文(for文)\n",
        "#リストの要素を表示\n",
        "names = ['John','Kevin' ,'Louis']\n",
        "for name in names:\n",
        "  print(name)"
      ],
      "execution_count": null,
      "outputs": [
        {
          "output_type": "stream",
          "text": [
            "John\n",
            "Kevin\n",
            "Louis\n"
          ],
          "name": "stdout"
        }
      ]
    },
    {
      "cell_type": "code",
      "metadata": {
        "colab": {
          "base_uri": "https://localhost:8080/"
        },
        "id": "p2HsSPQdIhf0",
        "outputId": "126ae5e8-3238-4fea-e299-60f4f70986fd"
      },
      "source": [
        "#range関数\n",
        "for i in range(10):\n",
        "  print(i)"
      ],
      "execution_count": null,
      "outputs": [
        {
          "output_type": "stream",
          "text": [
            "0\n",
            "1\n",
            "2\n",
            "3\n",
            "4\n",
            "5\n",
            "6\n",
            "7\n",
            "8\n",
            "9\n"
          ],
          "name": "stdout"
        }
      ]
    },
    {
      "cell_type": "code",
      "metadata": {
        "colab": {
          "base_uri": "https://localhost:8080/"
        },
        "id": "2NDY9k3cIy7F",
        "outputId": "24c6891d-9edd-44f5-9da1-21381c69638e"
      },
      "source": [
        "#27 強制終了\n",
        "for i in range(10):\n",
        "  if i == 6:\n",
        "    print('終了!')\n",
        "    break\n",
        "  print(i)"
      ],
      "execution_count": null,
      "outputs": [
        {
          "output_type": "stream",
          "text": [
            "0\n",
            "1\n",
            "2\n",
            "3\n",
            "4\n",
            "5\n",
            "終了!\n"
          ],
          "name": "stdout"
        }
      ]
    },
    {
      "cell_type": "code",
      "metadata": {
        "colab": {
          "base_uri": "https://localhost:8080/"
        },
        "id": "o1vGO71APIok",
        "outputId": "e6cd3a9b-2da2-4bdd-c0ab-0e49d9c87087"
      },
      "source": [
        "#28 ループの途中で特定の処理を実行\n",
        "for i in range(10):\n",
        "  if i == 3:\n",
        "    continue\n",
        "  print(i)"
      ],
      "execution_count": null,
      "outputs": [
        {
          "output_type": "stream",
          "text": [
            "0\n",
            "1\n",
            "2\n",
            "4\n",
            "5\n",
            "6\n",
            "7\n",
            "8\n",
            "9\n"
          ],
          "name": "stdout"
        }
      ]
    },
    {
      "cell_type": "code",
      "metadata": {
        "colab": {
          "base_uri": "https://localhost:8080/"
        },
        "id": "L9gXIlQgPh4Z",
        "outputId": "8f87867e-f859-4596-c967-90e5e9ed774e"
      },
      "source": [
        "#29 複数のリストを同時に処理→zip関数\n",
        "lasts =['加藤','佐藤','田中']\n",
        "firsts = ['雄一','拓哉','太郎']\n",
        "for last,first in zip(lasts,firsts):\n",
        "  print(last,first)"
      ],
      "execution_count": null,
      "outputs": [
        {
          "output_type": "stream",
          "text": [
            "加藤 雄一\n",
            "佐藤 拓哉\n",
            "田中 太郎\n"
          ],
          "name": "stdout"
        }
      ]
    },
    {
      "cell_type": "code",
      "metadata": {
        "colab": {
          "base_uri": "https://localhost:8080/"
        },
        "id": "3_jYO-zMP-xV",
        "outputId": "4cf561d0-8634-4c84-d4a1-e1dcb8f79356"
      },
      "source": [
        "#30 要素と同時にインデックス情報の取得\n",
        "lasts =['加藤','佐藤','田中']\n",
        "for i,last in enumerate(lasts):\n",
        "  print(f'{i}番の{last}です')"
      ],
      "execution_count": null,
      "outputs": [
        {
          "output_type": "stream",
          "text": [
            "0番の加藤です\n",
            "1番の佐藤です\n",
            "2番の田中です\n"
          ],
          "name": "stdout"
        }
      ]
    },
    {
      "cell_type": "code",
      "metadata": {
        "colab": {
          "base_uri": "https://localhost:8080/"
        },
        "id": "l4AqSFuiRMjL",
        "outputId": "299c7168-e856-4923-b242-5892182312e0"
      },
      "source": [
        "#31内包表記\n",
        "nums = []\n",
        "for i in range(10):\n",
        "  if i % 2 == 0:\n",
        "    nums.append(i)\n",
        "\n",
        "nums"
      ],
      "execution_count": null,
      "outputs": [
        {
          "output_type": "execute_result",
          "data": {
            "text/plain": [
              "[0, 2, 4, 6, 8]"
            ]
          },
          "metadata": {
            "tags": []
          },
          "execution_count": 12
        }
      ]
    },
    {
      "cell_type": "code",
      "metadata": {
        "colab": {
          "base_uri": "https://localhost:8080/"
        },
        "id": "NUJ5TxuLSFu7",
        "outputId": "a4021617-7739-4fcb-cac8-c22c5caebcaa"
      },
      "source": [
        "numbers = [2*i for i in range(5)]\n",
        "numbers"
      ],
      "execution_count": null,
      "outputs": [
        {
          "output_type": "execute_result",
          "data": {
            "text/plain": [
              "[0, 2, 4, 6, 8]"
            ]
          },
          "metadata": {
            "tags": []
          },
          "execution_count": 15
        }
      ]
    },
    {
      "cell_type": "code",
      "metadata": {
        "colab": {
          "base_uri": "https://localhost:8080/"
        },
        "id": "TEne4MSMSjGu",
        "outputId": "6f3b15bf-19a7-4b27-ec53-b8dc4042f048"
      },
      "source": [
        "#例外処理\n",
        "#32 0で割ったときの例外処理\n",
        "num=0\n",
        "try :\n",
        "  print(f'計算結果：{10/num}')\n",
        "except :\n",
        "  print('エラー')"
      ],
      "execution_count": null,
      "outputs": [
        {
          "output_type": "stream",
          "text": [
            "エラー\n"
          ],
          "name": "stdout"
        }
      ]
    },
    {
      "cell_type": "code",
      "metadata": {
        "colab": {
          "base_uri": "https://localhost:8080/"
        },
        "id": "D2CCq8KLUb7p",
        "outputId": "aefeeaa4-6522-4c38-93ff-7a0fcf777f09"
      },
      "source": [
        "#33 具体的なエラー内容の出力\n",
        "num=0\n",
        "try :\n",
        "  print(f'計算結果：{10/num}')\n",
        "except ZeroDivisionError as e:\n",
        "  print(e)\n",
        "#エラーの内容によって分岐ができる"
      ],
      "execution_count": null,
      "outputs": [
        {
          "output_type": "stream",
          "text": [
            "division by zero\n"
          ],
          "name": "stdout"
        }
      ]
    },
    {
      "cell_type": "code",
      "metadata": {
        "id": "tYRSa9e_VlZB"
      },
      "source": [
        "#34 エラー内容ごとの例外処理\n",
        "def divide(a,b):\n",
        "  try:\n",
        "    print(f'計算結果：{a/b}')\n",
        "  except ZeroDivisionError as e:\n",
        "    print(e)\n",
        "  except TypeError as e:\n",
        "    print(e)\n"
      ],
      "execution_count": null,
      "outputs": []
    },
    {
      "cell_type": "code",
      "metadata": {
        "colab": {
          "base_uri": "https://localhost:8080/"
        },
        "id": "nevXp0REWq5d",
        "outputId": "5ca6b63a-aed4-4459-b9b4-ca8c973af281"
      },
      "source": [
        "divide(1,'a')"
      ],
      "execution_count": null,
      "outputs": [
        {
          "output_type": "stream",
          "text": [
            "unsupported operand type(s) for /: 'int' and 'str'\n"
          ],
          "name": "stdout"
        }
      ]
    },
    {
      "cell_type": "code",
      "metadata": {
        "id": "F2WLSukCWxtq"
      },
      "source": [
        "#35 通常終了時に行う処理\n",
        "def divide(a,b):\n",
        "  try:\n",
        "    print(f'計算結果：{a/b}')\n",
        "  except ZeroDivisionError as e:\n",
        "    print(e)\n",
        "  except TypeError as e:\n",
        "    print(e)\n",
        "  else: #elseを付け加えると、正常終了時のコメント追加できる\n",
        "    print('正常に終了しました')"
      ],
      "execution_count": null,
      "outputs": []
    },
    {
      "cell_type": "code",
      "metadata": {
        "colab": {
          "base_uri": "https://localhost:8080/"
        },
        "id": "dHbqQ80sXpJQ",
        "outputId": "ab80bb88-15fd-4c83-e384-9f6f1a6c173e"
      },
      "source": [
        "divide(1,7)"
      ],
      "execution_count": null,
      "outputs": [
        {
          "output_type": "stream",
          "text": [
            "計算結果：0.14285714285714285\n",
            "正常に終了しました\n"
          ],
          "name": "stdout"
        }
      ]
    },
    {
      "cell_type": "code",
      "metadata": {
        "id": "q9Zg9hFXXt74"
      },
      "source": [
        "#36 例外も含めた終了時に行う処理\n",
        "def divide(a,b):\n",
        "  try:\n",
        "    print(f'計算結果：{a/b}')\n",
        "  except ZeroDivisionError as e:\n",
        "    print(e)\n",
        "  except TypeError as e:\n",
        "    print(e)\n",
        "  finally: #finallyを付け加えると、正常orエラーにかかわらず終了時のコメント追加できる\n",
        "    print('全ての処理が終了しました')"
      ],
      "execution_count": null,
      "outputs": []
    },
    {
      "cell_type": "code",
      "metadata": {
        "colab": {
          "base_uri": "https://localhost:8080/"
        },
        "id": "Mi2a3c4kYP-j",
        "outputId": "5ce873a4-e67e-46f5-9b20-85d38ad76ad3"
      },
      "source": [
        "divide(1,'a')"
      ],
      "execution_count": null,
      "outputs": [
        {
          "output_type": "stream",
          "text": [
            "unsupported operand type(s) for /: 'int' and 'str'\n",
            "全ての処理が終了しました\n"
          ],
          "name": "stdout"
        }
      ]
    },
    {
      "cell_type": "code",
      "metadata": {
        "id": "6iBlPAgiYRrx"
      },
      "source": [
        "#37　例外をスルー\n",
        "def divide(a,b):\n",
        "  try:\n",
        "    print(f'計算結果：{a/b}')\n",
        "  except ZeroDivisionError as e:\n",
        "    print(e)\n",
        "  except TypeError as e:\n",
        "    pass #↑のエラー時の対応は何もしない,passをつけないと何かしらの命令を記載しないといけない\n",
        "  finally: #finallyを付け加えると、正常orエラーにかかわらず終了時のコメント追加できる\n",
        "    print('全ての処理が終了しました')"
      ],
      "execution_count": null,
      "outputs": []
    },
    {
      "cell_type": "code",
      "metadata": {
        "colab": {
          "base_uri": "https://localhost:8080/"
        },
        "id": "ofDmtBGSYs1j",
        "outputId": "c2529f91-7464-4600-ed6b-6235a9c65d71"
      },
      "source": [
        "divide(1,'a')"
      ],
      "execution_count": null,
      "outputs": [
        {
          "output_type": "stream",
          "text": [
            "全ての処理が終了しました\n"
          ],
          "name": "stdout"
        }
      ]
    },
    {
      "cell_type": "markdown",
      "metadata": {
        "id": "JtjqS0YHfdn0"
      },
      "source": [
        "クラスについて"
      ]
    },
    {
      "cell_type": "code",
      "metadata": {
        "id": "FXkCSFqXfbDH"
      },
      "source": [
        "class Person:\n",
        "  def __init__(self,name,nationality,age):#コンストラクタ　＝　初期化を担当する　初期設定\n",
        "    self.name = name\n",
        "    self.nationality = nationality\n",
        "    self.age = age\n",
        "\n",
        "  def __call__(self):\n",
        "    print('ここはcallメソッドです。')\n",
        "\n",
        "  def say_hello(self,name):#メソッドの定義、クラス内で定義されている関数をメソッド\n",
        "    print(f'こんにちは{name}さん、私は{self.name}です。')#selfは呼び出したインスタンス自信を指す"
      ],
      "execution_count": null,
      "outputs": []
    },
    {
      "cell_type": "code",
      "metadata": {
        "id": "EPuAm6dxfbRV"
      },
      "source": [
        "#インスタンス化（実体化）　設計書に沿った実態を作る\n",
        "imanishi = Person('今西','日本',25)"
      ],
      "execution_count": null,
      "outputs": []
    },
    {
      "cell_type": "code",
      "metadata": {
        "id": "rRvZRbeMi3a6"
      },
      "source": [
        "mike = Person('マイク','アメリカ',13) #マイクを実体化"
      ],
      "execution_count": null,
      "outputs": []
    },
    {
      "cell_type": "code",
      "metadata": {
        "colab": {
          "base_uri": "https://localhost:8080/",
          "height": 35
        },
        "id": "2SqM_J2dfbU5",
        "outputId": "d17cb463-b833-423d-e24a-e5169699a582"
      },
      "source": [
        "imanishi.name #属性を取り出す、クラス内で定義されている変数を属性という"
      ],
      "execution_count": null,
      "outputs": [
        {
          "output_type": "execute_result",
          "data": {
            "application/vnd.google.colaboratory.intrinsic+json": {
              "type": "string"
            },
            "text/plain": [
              "'今西'"
            ]
          },
          "metadata": {
            "tags": []
          },
          "execution_count": 117
        }
      ]
    },
    {
      "cell_type": "code",
      "metadata": {
        "colab": {
          "base_uri": "https://localhost:8080/"
        },
        "id": "G5-SDFT1i81j",
        "outputId": "c0b98a37-119c-4b20-9256-212904d20f08"
      },
      "source": [
        "imanishi.say_hello('酒井')"
      ],
      "execution_count": null,
      "outputs": [
        {
          "output_type": "stream",
          "text": [
            "こんにちは酒井さん、私は今西です。\n"
          ],
          "name": "stdout"
        }
      ]
    },
    {
      "cell_type": "code",
      "metadata": {
        "colab": {
          "base_uri": "https://localhost:8080/"
        },
        "id": "kvd277ivi_aF",
        "outputId": "d983c85b-1ef8-43cc-d4dd-c3120f24abba"
      },
      "source": [
        "mike.say_hello('酒井')"
      ],
      "execution_count": null,
      "outputs": [
        {
          "output_type": "stream",
          "text": [
            "こんにちは酒井さん、私はマイクです。\n"
          ],
          "name": "stdout"
        }
      ]
    },
    {
      "cell_type": "code",
      "metadata": {
        "colab": {
          "base_uri": "https://localhost:8080/"
        },
        "id": "Fw_tPKcBiuvj",
        "outputId": "450c4e5c-b21e-48af-ae24-70f62c918bcf"
      },
      "source": [
        "imanishi.__call__()"
      ],
      "execution_count": null,
      "outputs": [
        {
          "output_type": "stream",
          "text": [
            "ここはcallメソッドです。\n"
          ],
          "name": "stdout"
        }
      ]
    },
    {
      "cell_type": "code",
      "metadata": {
        "colab": {
          "base_uri": "https://localhost:8080/"
        },
        "id": "MQwK7sG3i1o9",
        "outputId": "cacbf737-20c9-4d7d-a18d-a5fdee135721"
      },
      "source": [
        "imanishi() #コール関数は　インスタンス名() で呼び出せる"
      ],
      "execution_count": null,
      "outputs": [
        {
          "output_type": "stream",
          "text": [
            "ここはcallメソッドです。\n"
          ],
          "name": "stdout"
        }
      ]
    },
    {
      "cell_type": "code",
      "metadata": {
        "id": "LWYLVuJYfcry"
      },
      "source": [],
      "execution_count": null,
      "outputs": []
    },
    {
      "cell_type": "code",
      "metadata": {
        "id": "akA3GR12Yvzx"
      },
      "source": [
        "#クラス\n",
        "#38 classの基礎\n",
        "class Person: #Personクラスを用意\n",
        "  nationality = 'Japan'#クラス変数\n",
        "\n",
        "  def say_hello(self):#クラスメソッド\n",
        "    print(f'こんにちは、私の国籍は、{self.nationality}です。')"
      ],
      "execution_count": null,
      "outputs": []
    },
    {
      "cell_type": "code",
      "metadata": {
        "id": "QdxBbDdnZg0V"
      },
      "source": [
        "person =Person()　#クラスのインスタンス化"
      ],
      "execution_count": null,
      "outputs": []
    },
    {
      "cell_type": "code",
      "metadata": {
        "colab": {
          "base_uri": "https://localhost:8080/",
          "height": 35
        },
        "id": "mY8vlf7WZlHd",
        "outputId": "22fdda8f-3028-4036-f1a6-4a9aa30e9c45"
      },
      "source": [
        "person.nationality"
      ],
      "execution_count": null,
      "outputs": [
        {
          "output_type": "execute_result",
          "data": {
            "application/vnd.google.colaboratory.intrinsic+json": {
              "type": "string"
            },
            "text/plain": [
              "'Japan'"
            ]
          },
          "metadata": {
            "tags": []
          },
          "execution_count": 45
        }
      ]
    },
    {
      "cell_type": "code",
      "metadata": {
        "colab": {
          "base_uri": "https://localhost:8080/"
        },
        "id": "bGeVg5HVZpXM",
        "outputId": "636f7013-1d2c-46d6-84b6-f4d83180e2aa"
      },
      "source": [
        "person.say_hello()"
      ],
      "execution_count": null,
      "outputs": [
        {
          "output_type": "stream",
          "text": [
            "こんにちは、私の国籍は、Japanです。\n"
          ],
          "name": "stdout"
        }
      ]
    },
    {
      "cell_type": "code",
      "metadata": {
        "id": "sNSmgcvXZsBY"
      },
      "source": [
        "#39 コンストラクタの設定\n",
        "class Person: #Personクラスを用意\n",
        "  nationality = 'Japan'#クラス変数\n",
        "\n",
        "  def __init__(self,name):#コンストラクタ\n",
        "    self.name = name\n",
        "\n",
        "  def say_hello(self):#クラスメソッド\n",
        "    print(f'こんにちは、私の国籍は、{self.nationality}です。')\n",
        "\n",
        "  def say_my_name(self):\n",
        "    print(f'私の名前は{self.name}です。')"
      ],
      "execution_count": null,
      "outputs": []
    },
    {
      "cell_type": "code",
      "metadata": {
        "id": "fOf86-0ebNeb"
      },
      "source": [
        "imanishi = Person('今西')"
      ],
      "execution_count": null,
      "outputs": []
    },
    {
      "cell_type": "code",
      "metadata": {
        "colab": {
          "base_uri": "https://localhost:8080/",
          "height": 35
        },
        "id": "XNWFiWytcs_A",
        "outputId": "42c6e847-871b-4375-ec6b-03be3bdd21c9"
      },
      "source": [
        "imanishi.nationality"
      ],
      "execution_count": null,
      "outputs": [
        {
          "output_type": "execute_result",
          "data": {
            "application/vnd.google.colaboratory.intrinsic+json": {
              "type": "string"
            },
            "text/plain": [
              "'Japan'"
            ]
          },
          "metadata": {
            "tags": []
          },
          "execution_count": 66
        }
      ]
    },
    {
      "cell_type": "code",
      "metadata": {
        "colab": {
          "base_uri": "https://localhost:8080/",
          "height": 35
        },
        "id": "pP4Y8uaAdESK",
        "outputId": "4e7da724-3aef-4794-cf3d-870ec7ebb301"
      },
      "source": [
        "imanishi.name"
      ],
      "execution_count": null,
      "outputs": [
        {
          "output_type": "execute_result",
          "data": {
            "application/vnd.google.colaboratory.intrinsic+json": {
              "type": "string"
            },
            "text/plain": [
              "'今西'"
            ]
          },
          "metadata": {
            "tags": []
          },
          "execution_count": 73
        }
      ]
    },
    {
      "cell_type": "code",
      "metadata": {
        "colab": {
          "base_uri": "https://localhost:8080/"
        },
        "id": "6s4jkLAfdGg9",
        "outputId": "a428b078-07a4-4c27-b057-83874e1bd419"
      },
      "source": [
        "imanishi.say_my_name()"
      ],
      "execution_count": null,
      "outputs": [
        {
          "output_type": "stream",
          "text": [
            "私の名前は今西です。\n"
          ],
          "name": "stdout"
        }
      ]
    },
    {
      "cell_type": "code",
      "metadata": {
        "id": "6plP1tQVdUxb"
      },
      "source": [
        "#40　クラスの継承\n",
        "class Kid(Person):#クラスを用意するときに、継承したいクラス名を指定する\n",
        "  def say_hello(self,age):\n",
        "    print(f'私の名前は{self.name}です。年齢は{age}歳です。')"
      ],
      "execution_count": null,
      "outputs": []
    },
    {
      "cell_type": "code",
      "metadata": {
        "id": "4zikIB68d9xh"
      },
      "source": [
        "kid = Kid('けんすけ')"
      ],
      "execution_count": null,
      "outputs": []
    },
    {
      "cell_type": "code",
      "metadata": {
        "colab": {
          "base_uri": "https://localhost:8080/",
          "height": 35
        },
        "id": "Nb_f9TPXeF_I",
        "outputId": "437e6729-53db-414c-ef4f-9b5234d283bb"
      },
      "source": [
        "kid.name"
      ],
      "execution_count": null,
      "outputs": [
        {
          "output_type": "execute_result",
          "data": {
            "application/vnd.google.colaboratory.intrinsic+json": {
              "type": "string"
            },
            "text/plain": [
              "'けんすけ'"
            ]
          },
          "metadata": {
            "tags": []
          },
          "execution_count": 90
        }
      ]
    },
    {
      "cell_type": "code",
      "metadata": {
        "colab": {
          "base_uri": "https://localhost:8080/",
          "height": 35
        },
        "id": "8JXou_fAfG4G",
        "outputId": "c0da732c-1e51-418f-b33c-e2a30ce44777"
      },
      "source": [
        "kid.nationality"
      ],
      "execution_count": null,
      "outputs": [
        {
          "output_type": "execute_result",
          "data": {
            "application/vnd.google.colaboratory.intrinsic+json": {
              "type": "string"
            },
            "text/plain": [
              "'Japan'"
            ]
          },
          "metadata": {
            "tags": []
          },
          "execution_count": 92
        }
      ]
    },
    {
      "cell_type": "code",
      "metadata": {
        "colab": {
          "base_uri": "https://localhost:8080/"
        },
        "id": "ujTKoplcfJie",
        "outputId": "9c6bde8b-f18b-4e2e-bb65-68e398d77d80"
      },
      "source": [
        "kid.say_hello(12)"
      ],
      "execution_count": null,
      "outputs": [
        {
          "output_type": "stream",
          "text": [
            "私の名前はけんすけです。年齢は12歳です。\n"
          ],
          "name": "stdout"
        }
      ]
    },
    {
      "cell_type": "code",
      "metadata": {
        "id": "WBDij0PWfMtU"
      },
      "source": [
        "#41 private と　public\n",
        "class Person:\n",
        "  __nationality = 'Japan'#変数名の先頭に__をつけるだけでプライベートな変数に\n",
        "\n",
        "  def __init__(self,name):\n",
        "    self.name = name\n",
        "\n",
        "  def say_hello(self):#クラスメソッド\n",
        "    print(f'こんにちは、私の国籍は、{self.__nationality}です。')#プライベートな変数も、クラス内では呼びだせる\n",
        "\n",
        "  def  __say_my_name(self):#メソッド名の先頭に__をつけるだけでプライベートなメソッドに\n",
        "    print(f'私の名前は{self.name}です。')"
      ],
      "execution_count": null,
      "outputs": []
    },
    {
      "cell_type": "code",
      "metadata": {
        "id": "9NeRoBAnk_3r"
      },
      "source": [
        "imanishi=Person('今西')"
      ],
      "execution_count": null,
      "outputs": []
    },
    {
      "cell_type": "code",
      "metadata": {
        "colab": {
          "base_uri": "https://localhost:8080/",
          "height": 35
        },
        "id": "zxnb9wKglDOK",
        "outputId": "e6b0fde7-397d-4916-8885-afdbf73907c3"
      },
      "source": [
        "imanishi.name"
      ],
      "execution_count": null,
      "outputs": [
        {
          "output_type": "execute_result",
          "data": {
            "application/vnd.google.colaboratory.intrinsic+json": {
              "type": "string"
            },
            "text/plain": [
              "'今西'"
            ]
          },
          "metadata": {
            "tags": []
          },
          "execution_count": 123
        }
      ]
    },
    {
      "cell_type": "code",
      "metadata": {
        "colab": {
          "base_uri": "https://localhost:8080/",
          "height": 168
        },
        "id": "ZT5GFOWclFUX",
        "outputId": "3afd4003-9be1-4e08-b8f8-40227d155fae"
      },
      "source": [
        "imanishi.__nationality"
      ],
      "execution_count": null,
      "outputs": [
        {
          "output_type": "error",
          "ename": "AttributeError",
          "evalue": "ignored",
          "traceback": [
            "\u001b[0;31m---------------------------------------------------------------------------\u001b[0m",
            "\u001b[0;31mAttributeError\u001b[0m                            Traceback (most recent call last)",
            "\u001b[0;32m<ipython-input-125-5326c057ff24>\u001b[0m in \u001b[0;36m<module>\u001b[0;34m()\u001b[0m\n\u001b[0;32m----> 1\u001b[0;31m \u001b[0mimanishi\u001b[0m\u001b[0;34m.\u001b[0m\u001b[0m__nationality\u001b[0m\u001b[0;34m\u001b[0m\u001b[0;34m\u001b[0m\u001b[0m\n\u001b[0m",
            "\u001b[0;31mAttributeError\u001b[0m: 'Person' object has no attribute '__nationality'"
          ]
        }
      ]
    },
    {
      "cell_type": "code",
      "metadata": {
        "colab": {
          "base_uri": "https://localhost:8080/"
        },
        "id": "9oAunNAZlHge",
        "outputId": "d1602612-4bac-4805-a459-a96c639dd6d7"
      },
      "source": [
        "imanishi.say_hello()"
      ],
      "execution_count": null,
      "outputs": [
        {
          "output_type": "stream",
          "text": [
            "こんにちは、私の国籍は、Japanです。\n"
          ],
          "name": "stdout"
        }
      ]
    },
    {
      "cell_type": "code",
      "metadata": {
        "id": "XGF7ROaalSNy"
      },
      "source": [
        "#58ベクトルの定義\n",
        "import numpy as np\n",
        "b = np.array([1,2,3,4])"
      ],
      "execution_count": null,
      "outputs": []
    },
    {
      "cell_type": "code",
      "metadata": {
        "colab": {
          "base_uri": "https://localhost:8080/"
        },
        "id": "7VmBF8ZJieE0",
        "outputId": "54c2bc07-2598-46cf-96f4-0327e60c5cf2"
      },
      "source": [
        "b"
      ],
      "execution_count": null,
      "outputs": [
        {
          "output_type": "execute_result",
          "data": {
            "text/plain": [
              "array([1, 2, 3, 4])"
            ]
          },
          "metadata": {
            "tags": []
          },
          "execution_count": 2
        }
      ]
    },
    {
      "cell_type": "code",
      "metadata": {
        "colab": {
          "base_uri": "https://localhost:8080/"
        },
        "id": "0qj4JIpNitGK",
        "outputId": "38179b1b-af55-4123-d879-be3c78855bad"
      },
      "source": [
        "b.shape"
      ],
      "execution_count": null,
      "outputs": [
        {
          "output_type": "execute_result",
          "data": {
            "text/plain": [
              "(4,)"
            ]
          },
          "metadata": {
            "tags": []
          },
          "execution_count": 3
        }
      ]
    },
    {
      "cell_type": "code",
      "metadata": {
        "id": "wdrf1imhi1tY",
        "colab": {
          "base_uri": "https://localhost:8080/"
        },
        "outputId": "fea0bfb0-9d8f-450b-a265-96ffd1fbda49"
      },
      "source": [
        "#61 加減乗算\n",
        "A = np.array([[1,5],[4,-2]])\n",
        "A"
      ],
      "execution_count": null,
      "outputs": [
        {
          "output_type": "execute_result",
          "data": {
            "text/plain": [
              "array([[ 1,  5],\n",
              "       [ 4, -2]])"
            ]
          },
          "metadata": {
            "tags": []
          },
          "execution_count": 5
        }
      ]
    },
    {
      "cell_type": "code",
      "metadata": {
        "colab": {
          "base_uri": "https://localhost:8080/"
        },
        "id": "NyoQUf9MlfPl",
        "outputId": "6b92997b-1bb2-4794-90b7-1425db6c7397"
      },
      "source": [
        "B = np.array([[2,-1],[7,6]])\n",
        "B"
      ],
      "execution_count": null,
      "outputs": [
        {
          "output_type": "execute_result",
          "data": {
            "text/plain": [
              "array([[ 2, -1],\n",
              "       [ 7,  6]])"
            ]
          },
          "metadata": {
            "tags": []
          },
          "execution_count": 6
        }
      ]
    },
    {
      "cell_type": "code",
      "metadata": {
        "colab": {
          "base_uri": "https://localhost:8080/"
        },
        "id": "0K_6EEsll_rw",
        "outputId": "f9bced57-f645-4885-d09f-e85af79272da"
      },
      "source": [
        "A + B"
      ],
      "execution_count": null,
      "outputs": [
        {
          "output_type": "execute_result",
          "data": {
            "text/plain": [
              "array([[ 3,  4],\n",
              "       [11,  4]])"
            ]
          },
          "metadata": {
            "tags": []
          },
          "execution_count": 7
        }
      ]
    },
    {
      "cell_type": "code",
      "metadata": {
        "colab": {
          "base_uri": "https://localhost:8080/"
        },
        "id": "clX9tc59mA2c",
        "outputId": "e30fb5af-5506-415a-a449-916b1361c7f2"
      },
      "source": [
        "A - B"
      ],
      "execution_count": null,
      "outputs": [
        {
          "output_type": "execute_result",
          "data": {
            "text/plain": [
              "array([[-1,  6],\n",
              "       [-3, -8]])"
            ]
          },
          "metadata": {
            "tags": []
          },
          "execution_count": 8
        }
      ]
    },
    {
      "cell_type": "code",
      "metadata": {
        "colab": {
          "base_uri": "https://localhost:8080/"
        },
        "id": "Nf9rqY9ImCRb",
        "outputId": "bf0d2dc1-7800-4fc7-e45b-e0ac42be9244"
      },
      "source": [
        " #行列積\n",
        " np.dot(A,B)"
      ],
      "execution_count": null,
      "outputs": [
        {
          "output_type": "execute_result",
          "data": {
            "text/plain": [
              "array([[ 37,  29],\n",
              "       [ -6, -16]])"
            ]
          },
          "metadata": {
            "tags": []
          },
          "execution_count": 9
        }
      ]
    },
    {
      "cell_type": "code",
      "metadata": {
        "id": "_73h1bq_mPgz"
      },
      "source": [],
      "execution_count": null,
      "outputs": []
    }
  ]
}